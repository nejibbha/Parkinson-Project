{
 "cells": [
  {
   "cell_type": "code",
   "execution_count": null,
   "metadata": {},
   "outputs": [],
   "source": [
    "!pip install dlib"
   ]
  },
  {
   "cell_type": "code",
   "execution_count": null,
   "metadata": {},
   "outputs": [],
   "source": [
    "import cv2\n",
    "import dlib\n",
    "import os"
   ]
  },
  {
   "cell_type": "code",
   "execution_count": null,
   "metadata": {},
   "outputs": [],
   "source": [
    "frame_path = '../empirical-evaluation-frames'\n",
    "destination_path = '../empirical-evaluation-frames-blurred'"
   ]
  },
  {
   "cell_type": "code",
   "execution_count": null,
   "metadata": {},
   "outputs": [],
   "source": [
    "face_cascade = cv2.CascadeClassifier(cv2.data.haarcascades + 'haarcascade_frontalface_default.xml')\n",
    "\n",
    "def face_blur(frame):\n",
    "    gray = cv2.cvtColor(frame, cv2.COLOR_BGR2GRAY)\n",
    "    faces = face_cascade.detectMultiScale(gray, 1.3, 5)\n",
    "    \n",
    "    for (x, y, w, h) in faces:\n",
    "        roi = frame[y:y+h, x:x+w]\n",
    "        blur = cv2.GaussianBlur(roi, (23, 23), 30)\n",
    "        frame[y:y+h, x:x+w] = blur\n",
    "\n",
    "    return frame"
   ]
  },
  {
   "cell_type": "code",
   "execution_count": null,
   "metadata": {},
   "outputs": [],
   "source": [
    "os.makedirs(destination_path, exist_ok=True)\n",
    "for severity in os.listdir(frame_path):\n",
    "    os.makedirs(os.path.join(destination_path, severity), exist_ok=True)\n",
    "    for video in os.listdir(os.path.join(frame_path, severity)):\n",
    "        os.makedirs(os.path.join(destination_path, severity, video))\n",
    "        for orientation in os.listdir(os.path.join(frame_path, severity, video)):\n",
    "            os.makedirs(os.path.join(destination_path, severity, video, orientation), exist_ok=True)\n",
    "            for frame in os.listdir(os.path.join(frame_path, severity, video, orientation)):\n",
    "                frame_matrix = cv2.imread(os.path.join(frame_path, severity, video, orientation, frame))\n",
    "                frame_matrix = face_blur(frame_matrix)\n",
    "                cv2.imwrite(os.path.join(destination_path, severity, video, orientation, frame), frame_matrix)"
   ]
  }
 ],
 "metadata": {
  "kernelspec": {
   "display_name": "deep-learning",
   "language": "python",
   "name": "python3"
  },
  "language_info": {
   "codemirror_mode": {
    "name": "ipython",
    "version": 3
   },
   "file_extension": ".py",
   "mimetype": "text/x-python",
   "name": "python",
   "nbconvert_exporter": "python",
   "pygments_lexer": "ipython3",
   "version": "3.10.13"
  }
 },
 "nbformat": 4,
 "nbformat_minor": 2
}
