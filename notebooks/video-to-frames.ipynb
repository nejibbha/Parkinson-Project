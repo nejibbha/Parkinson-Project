{
 "cells": [
  {
   "cell_type": "code",
   "execution_count": null,
   "metadata": {},
   "outputs": [],
   "source": [
    "import os\n",
    "import cv2"
   ]
  },
  {
   "cell_type": "code",
   "execution_count": null,
   "metadata": {},
   "outputs": [],
   "source": [
    "video_path = '../empirical-evaluation'\n",
    "output_path = '../empirical-evaluation-frames'"
   ]
  },
  {
   "cell_type": "code",
   "execution_count": null,
   "metadata": {},
   "outputs": [],
   "source": [
    "def video_to_frames(video_path, output_path, fps=10):\n",
    "    video_capture = cv2.VideoCapture(video_path)\n",
    "    original_fps = video_capture.get(cv2.CAP_PROP_FPS)\n",
    "    if original_fps == 0:\n",
    "        raise ValueError(\"Could not retrieve video FPS.\")\n",
    "    frame_interval = int(original_fps / fps)\n",
    "    \n",
    "    frame_count = 0\n",
    "    saved_frame_count = 0\n",
    "\n",
    "    while True:\n",
    "        success, frame = video_capture.read()\n",
    "        if not success:\n",
    "            break\n",
    "\n",
    "        if frame_count % frame_interval == 0:\n",
    "            frame_filename = os.path.join(output_path, f\"frame_{saved_frame_count:04d}.png\")\n",
    "            cv2.imwrite(frame_filename, frame)\n",
    "            saved_frame_count += 1\n",
    "        \n",
    "        frame_count += 1\n",
    "    video_capture.release()\n"
   ]
  },
  {
   "cell_type": "code",
   "execution_count": null,
   "metadata": {},
   "outputs": [],
   "source": [
    "os.makedirs(output_path, exist_ok=True)\n",
    "for severity in os.listdir(video_path):\n",
    "    print(severity)\n",
    "    os.makedirs(os.path.join(output_path, severity), exist_ok=True)\n",
    "    for video in os.listdir(os.path.join(video_path, severity)):\n",
    "        os.makedirs(os.path.join(output_path, severity, video), exist_ok=True)\n",
    "        video_to_frames(os.path.join(video_path, severity, video), os.path.join(output_path, severity, video))"
   ]
  }
 ],
 "metadata": {
  "kernelspec": {
   "display_name": "deep-learning",
   "language": "python",
   "name": "python3"
  },
  "language_info": {
   "codemirror_mode": {
    "name": "ipython",
    "version": 3
   },
   "file_extension": ".py",
   "mimetype": "text/x-python",
   "name": "python",
   "nbconvert_exporter": "python",
   "pygments_lexer": "ipython3",
   "version": "3.10.13"
  }
 },
 "nbformat": 4,
 "nbformat_minor": 2
}
