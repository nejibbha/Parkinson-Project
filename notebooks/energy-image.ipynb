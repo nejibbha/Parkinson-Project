{
 "cells": [
  {
   "cell_type": "code",
   "execution_count": 20,
   "metadata": {},
   "outputs": [],
   "source": [
    "import os\n",
    "from PIL import Image\n",
    "import numpy as np"
   ]
  },
  {
   "cell_type": "code",
   "execution_count": 21,
   "metadata": {},
   "outputs": [],
   "source": [
    "hpe_image_path = '../hpe-images-empirical'\n",
    "destination_path = '../energy-images-empirical'"
   ]
  },
  {
   "cell_type": "code",
   "execution_count": 22,
   "metadata": {},
   "outputs": [],
   "source": [
    "def generate_energy(file_path: str):\n",
    "    if len(os.listdir(file_path)) <= 16: \n",
    "        pass\n",
    "    else:\n",
    "        images = os.listdir(os.path.join(hpe_image_path, severity, video, orientation))\n",
    "        energy_image_list = list()\n",
    "        for i in range(0, len(images) - 16):\n",
    "            energy_image = sum([np.array(Image.open(os.path.join(file_path, image)))/17 for image in images[i:i+17]])\n",
    "            energy_image_list.append(energy_image)\n",
    "        return energy_image_list"
   ]
  },
  {
   "cell_type": "code",
   "execution_count": 23,
   "metadata": {},
   "outputs": [],
   "source": [
    "os.makedirs(destination_path, exist_ok=True)\n",
    "for severity in os.listdir(hpe_image_path):\n",
    "    os.makedirs(os.path.join(destination_path, severity), exist_ok=True)\n",
    "    for video in os.listdir(os.path.join(hpe_image_path, severity)):\n",
    "        for orientation in os.listdir(os.path.join(hpe_image_path, severity, video)):\n",
    "            energy_images = generate_energy(os.path.join(hpe_image_path, severity, video, orientation))\n",
    "            if energy_images is not None:   \n",
    "                for i, energy_image in enumerate(energy_images):\n",
    "                    try:\n",
    "                        Image.fromarray(energy_image.astype(np.uint8)).save(os.path.join(destination_path, severity, f\"{video.split(' ')[2]}-{orientation}-{i}.png\"))\n",
    "                    except:\n",
    "                        print(energy_image)"
   ]
  }
 ],
 "metadata": {
  "kernelspec": {
   "display_name": "deep-learning",
   "language": "python",
   "name": "python3"
  },
  "language_info": {
   "codemirror_mode": {
    "name": "ipython",
    "version": 3
   },
   "file_extension": ".py",
   "mimetype": "text/x-python",
   "name": "python",
   "nbconvert_exporter": "python",
   "pygments_lexer": "ipython3",
   "version": "3.10.13"
  }
 },
 "nbformat": 4,
 "nbformat_minor": 2
}
