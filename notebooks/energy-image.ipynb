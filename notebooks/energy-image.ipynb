{
 "cells": [
  {
   "cell_type": "code",
   "execution_count": null,
   "metadata": {},
   "outputs": [],
   "source": [
    "import os\n",
    "from PIL import Image\n",
    "import numpy as np"
   ]
  },
  {
   "cell_type": "code",
   "execution_count": null,
   "metadata": {},
   "outputs": [],
   "source": [
    "hpe_image_path = '../hpe-images-empirical'\n",
    "destination_path = '../energy-images-empirical'"
   ]
  },
  {
   "cell_type": "code",
   "execution_count": null,
   "metadata": {},
   "outputs": [],
   "source": [
    "def energy_image(file_path):\n",
    "    if not os.listdir(file_path): return \n",
    "    return sum([np.array(Image.open(os.path.join(file_path, image)))/len(os.listdir(file_path)) for image in os.listdir(file_path)])"
   ]
  },
  {
   "cell_type": "code",
   "execution_count": null,
   "metadata": {},
   "outputs": [],
   "source": [
    "os.makedirs(destination_path, exist_ok=True)\n",
    "for severity in os.listdir(hpe_image_path):\n",
    "    print(severity)\n",
    "    os.makedirs(os.path.join(destination_path, severity), exist_ok=True)\n",
    "    for video in os.listdir(os.path.join(hpe_image_path, severity)):\n",
    "        print(video)\n",
    "        for orientation in os.listdir(os.path.join(hpe_image_path, severity, video)):\n",
    "            print(orientation)\n",
    "            try:\n",
    "                energy_img = Image.fromarray(energy_image(os.path.join(hpe_image_path, severity, video, orientation)).astype(np.uint8))\n",
    "                energy_img.save(os.path.join(destination_path, severity, f\"{video.split(' ')[2]}-{orientation}.png\"))\n",
    "            except:\n",
    "                pass"
   ]
  }
 ],
 "metadata": {
  "kernelspec": {
   "display_name": "deep-learning",
   "language": "python",
   "name": "python3"
  },
  "language_info": {
   "codemirror_mode": {
    "name": "ipython",
    "version": 3
   },
   "file_extension": ".py",
   "mimetype": "text/x-python",
   "name": "python",
   "nbconvert_exporter": "python",
   "pygments_lexer": "ipython3",
   "version": "3.10.13"
  }
 },
 "nbformat": 4,
 "nbformat_minor": 2
}
