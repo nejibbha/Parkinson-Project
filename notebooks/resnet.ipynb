{
 "cells": [
  {
   "cell_type": "code",
   "execution_count": null,
   "metadata": {},
   "outputs": [],
   "source": [
    "from tensorflow.keras.layers import Conv2D, MaxPooling2D, Flatten, Dense, Dropout, BatchNormalization\n",
    "from imblearn.over_sampling import RandomOverSampler\n",
    "from sklearn.preprocessing import OneHotEncoder\n",
    "from tensorflow.keras.models import Sequential\n",
    "import matplotlib.pyplot as plt\n",
    "import tensorflow as tf\n",
    "import numpy as np\n",
    "import cv2\n",
    "import os"
   ]
  },
  {
   "cell_type": "code",
   "execution_count": null,
   "metadata": {},
   "outputs": [],
   "source": [
    "severity_code = {'MILD': 0,\n",
    "                'MODERATE': 1,\n",
    "                'NORMAL': 2,\n",
    "                'SEVERE': 3}"
   ]
  },
  {
   "cell_type": "code",
   "execution_count": null,
   "metadata": {},
   "outputs": [],
   "source": [
    "# specifying file locations\n",
    "\n",
    "source_folder_train = '/Users/aravdhoot/Remote-PD-Detection/split_energy_images/Train/'\n",
    "source_folder_val = '/Users/aravdhoot/Remote-PD-Detection/split_energy_images/Validation/'\n",
    "channels = 3"
   ]
  },
  {
   "cell_type": "code",
   "execution_count": null,
   "metadata": {},
   "outputs": [],
   "source": [
    "# adding the image arrays to an array\n",
    "\n",
    "resized_images_train = [\n",
    "    cv2.resize(cv2.imread(os.path.join(source_folder_train, severity, video, image)), (224, 224))\n",
    "    for severity in os.listdir(source_folder_train)\n",
    "    for video in os.listdir(os.path.join(source_folder_train, severity))\n",
    "    for image in os.listdir(os.path.join(source_folder_train, severity, video))\n",
    "]\n",
    "\n",
    "# formatting the array\n",
    "\n",
    "num_samples = len(resized_images_train)\n",
    "input_shape = (num_samples, 224, 224, channels)\n",
    "input_array_train = np.empty(input_shape, dtype=np.uint8)"
   ]
  },
  {
   "cell_type": "code",
   "execution_count": null,
   "metadata": {},
   "outputs": [],
   "source": [
    "# adding the corresponding severity codes to the array\n",
    "\n",
    "input_array_train = np.array(resized_images_train)\n",
    "print(input_array_train.shape)\n",
    "x_train = input_array_train\n",
    "\n",
    "y_train = [\n",
    "    severity_code[severity]\n",
    "    for severity in os.listdir(source_folder_train)\n",
    "    for video in os.listdir(os.path.join(source_folder_train, severity))\n",
    "    for image in os.listdir(os.path.join(source_folder_train, severity, video))\n",
    "]"
   ]
  },
  {
   "cell_type": "code",
   "execution_count": null,
   "metadata": {},
   "outputs": [],
   "source": [
    "# adding the image arrays to an array\n",
    "\n",
    "resized_images_val = [\n",
    "    cv2.resize(cv2.imread(os.path.join(source_folder_val, severity, video, image)), (224, 224))\n",
    "    for severity in os.listdir(source_folder_val)\n",
    "    for video in os.listdir(os.path.join(source_folder_val, severity))\n",
    "    for image in os.listdir(os.path.join(source_folder_val, severity, video))\n",
    "]\n",
    "\n",
    "# formatting the array\n",
    "\n",
    "num_samples = len(resized_images_val)\n",
    "input_shape = (num_samples, 224, 224, channels)\n",
    "input_array = np.empty(input_shape, dtype=np.uint8)"
   ]
  },
  {
   "cell_type": "code",
   "execution_count": null,
   "metadata": {},
   "outputs": [],
   "source": [
    "# adding the corresponding severity codes to the array\n",
    "\n",
    "input_array_val = np.array(resized_images_val)\n",
    "print(input_array.shape)\n",
    "x_val = input_array\n",
    "\n",
    "y_val = [\n",
    "    severity_code[severity]\n",
    "    for severity in os.listdir(source_folder_val)\n",
    "    for video in os.listdir(os.path.join(source_folder_val, severity))\n",
    "    for image in os.listdir(os.path.join(source_folder_val, severity, video))\n",
    "]"
   ]
  },
  {
   "cell_type": "code",
   "execution_count": null,
   "metadata": {},
   "outputs": [],
   "source": [
    "# randomly oversampling all the training images to have the same number of images\n",
    "\n",
    "ros = RandomOverSampler(random_state=42)\n",
    "x_train_2d = x_train.reshape(x_train.shape[0], -1)\n",
    "X_resampled, y_resampled = ros.fit_resample(x_train_2d, y_train)\n",
    "x_resampled_original = X_resampled.reshape(-1, x_train.shape[1], x_train.shape[2], x_train.shape[3])"
   ]
  },
  {
   "cell_type": "code",
   "execution_count": null,
   "metadata": {},
   "outputs": [],
   "source": [
    "# applying one-hot encoding on the class values\n",
    "\n",
    "encoder = OneHotEncoder(sparse=False)\n",
    "y_val = encoder.fit_transform(np.array(y_val).reshape(-1,1))\n",
    "y_train = encoder.fit_transform(np.array(y_resampled).reshape(-1,1))"
   ]
  },
  {
   "cell_type": "code",
   "execution_count": null,
   "metadata": {},
   "outputs": [],
   "source": [
    "# normalizing the image arrays\n",
    "\n",
    "x_resampled_original = x_resampled_original/255.0\n",
    "x_val = x_val/255.0"
   ]
  },
  {
   "cell_type": "code",
   "execution_count": 3,
   "metadata": {},
   "outputs": [],
   "source": [
    "from tensorflow.keras.applications.resnet50 import ResNet50"
   ]
  },
  {
   "cell_type": "code",
   "execution_count": null,
   "metadata": {},
   "outputs": [],
   "source": [
    "base_model = ResNet50(weights=None, include_top=False, input_shape=(224, 224, 3))\n",
    "\n",
    "# Define the custom top layers for your classification task\n",
    "model = Sequential([\n",
    "    base_model,\n",
    "    GlobalAveragePooling2D(),\n",
    "    Dense(1024, activation='relu'),\n",
    "    Dense(4, activation='softmax')  # Adjust the number of units to match the number of classes\n",
    "])\n",
    "\n",
    "# Compile the model\n",
    "model.compile(optimizer='adam',\n",
    "              loss='categorical_crossentropy',\n",
    "              metrics=['accuracy'])\n",
    "\n",
    "# Model summary to check architecture\n",
    "model.summary()"
   ]
  },
  {
   "cell_type": "code",
   "execution_count": null,
   "metadata": {},
   "outputs": [],
   "source": [
    "x_train = x_resampled_original"
   ]
  },
  {
   "cell_type": "code",
   "execution_count": null,
   "metadata": {},
   "outputs": [],
   "source": [
    "epochs1 = 36\n",
    "epochs2= 4\n",
    "batch_size = 32\n",
    "\n",
    "x_val = x_val/255.0\n",
    "chs=2000\n",
    "history = {'loss': [], 'accuracy': [], 'val_loss': [], 'val_accuracy': []}\n",
    "nchunk=x_train.shape[0]//chs\n",
    "for i in range(0,nchunk+1):\n",
    "    rl = i*chs\n",
    "    rr = min((i+1)*chs, x_train.shape[0])\n",
    "    print('doing chunk', rl,rr)\n",
    "    x_traini = x_train[rl:rr,:,:]/255.0\n",
    "    y_traini = y_train[rl:rr]\n",
    "    historyi = model.fit(x_traini, y_traini, epochs=epochs1, batch_size=batch_size)\n",
    "    historyi = model.fit(x_traini, y_traini, epochs=epochs2, batch_size=batch_size, validation_data=(x_val, y_val))\n",
    "    history['accuracy'] = history['accuracy'] +historyi.history['accuracy'] \n",
    "    history['val_accuracy'] = history['val_accuracy'] +historyi.history['val_accuracy'] \n",
    "    history['loss'] = history['loss'] +historyi.history['loss']\n",
    "    history['val_loss'] = history['val_loss'] +historyi.history['val_loss']"
   ]
  }
 ],
 "metadata": {
  "kernelspec": {
   "display_name": "deep-learning",
   "language": "python",
   "name": "python3"
  },
  "language_info": {
   "codemirror_mode": {
    "name": "ipython",
    "version": 3
   },
   "file_extension": ".py",
   "mimetype": "text/x-python",
   "name": "python",
   "nbconvert_exporter": "python",
   "pygments_lexer": "ipython3",
   "version": "3.10.13"
  }
 },
 "nbformat": 4,
 "nbformat_minor": 2
}
