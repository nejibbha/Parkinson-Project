{
 "cells": [
  {
   "cell_type": "code",
   "execution_count": null,
   "metadata": {},
   "outputs": [],
   "source": [
    "from ultralytics import YOLO\n",
    "import os\n",
    "import torch\n",
    "from tqdm import tqdm"
   ]
  },
  {
   "cell_type": "code",
   "execution_count": null,
   "metadata": {},
   "outputs": [],
   "source": [
    "model = YOLO('yolov8m-pose.pt')"
   ]
  },
  {
   "cell_type": "code",
   "execution_count": null,
   "metadata": {},
   "outputs": [],
   "source": [
    "destination_path = '/Users/aravdhoot/Parkinson-Project/hpe_images_new'\n",
    "frame_path = '/Users/aravdhoot/PD/frames_updated'"
   ]
  },
  {
   "cell_type": "code",
   "execution_count": null,
   "metadata": {},
   "outputs": [],
   "source": [
    "import cv2\n",
    "import matplotlib.pyplot as plt"
   ]
  },
  {
   "cell_type": "code",
   "execution_count": null,
   "metadata": {},
   "outputs": [],
   "source": [
    "def scale(x_list, y_list):\n",
    "    y_min = min(y_list)\n",
    "    y_max = max(y_list)\n",
    "\n",
    "    multiplier = 320 / (y_max - y_min)\n",
    "\n",
    "    x_list = [value + (abs(value - 320) * multiplier) for value in x_list]\n",
    "    y_list = [value + (abs(value - 180) * multiplier) for value in y_list]\n",
    "\n",
    "    return x_list, y_list"
   ]
  },
  {
   "cell_type": "code",
   "execution_count": null,
   "metadata": {},
   "outputs": [],
   "source": [
    "def preprocess_keypoints(results):\n",
    "    conf_list = results[0].keypoints.conf[0]\n",
    "    conf_list = conf_list.tolist()\n",
    "    \n",
    "    x_list = [value[0] for value in results[0].keypoints.xy[0]]\n",
    "    y_list = [value[1] for value in results[0].keypoints.xy[0]]\n",
    "\n",
    "    try:\n",
    "        x_list = [value[0] for value in results[0].keypoints.xy[0]]\n",
    "        y_list = [value[1] for value in results[0].keypoints.xy[0]]\n",
    "\n",
    "        zero_x_indices = [i for i, x in enumerate(x_list) if x == 0.0]\n",
    "        zero_y_indices = [i for i, y in enumerate(y_list) if y == 0.0]\n",
    "                \n",
    "        temp_x_list = [x for x in x_list if x != 0.0]\n",
    "        temp_y_list = [y for y in y_list if y != 0.0]\n",
    "\n",
    "        x_min = min(temp_x_list)\n",
    "        y_min = min(temp_y_list)\n",
    "        x_max = max(temp_x_list)\n",
    "        y_max = max(temp_y_list)\n",
    "\n",
    "        norm_x = (x_min + x_max)/2\n",
    "        norm_y = (y_min + y_max)/2\n",
    "\n",
    "        x_list  = [item + (320 - norm_x) for item in temp_x_list]\n",
    "        y_list = [item + (180 - norm_y) for item in temp_y_list]\n",
    "        \n",
    "        min_y = min(y_list).item()\n",
    "        max_y = max(y_list).item()\n",
    "\n",
    "        scaled_y_list = [(y - min_y) / (max_y - min_y) * 360 for y in y_list]\n",
    "        scaled_x_list = [(x - min_y) / (max_y - min_y) * 360 for x in x_list]\n",
    "\n",
    "        x_min = min(scaled_x_list)\n",
    "        x_max = max(scaled_x_list)\n",
    "\n",
    "        norm_x = (x_min + x_max)/2\n",
    "        scaled_x_list  = [item + (320 - norm_x) for item in scaled_x_list]\n",
    "\n",
    "        for i in zero_x_indices:\n",
    "            scaled_x_list.insert(i, 0.0)\n",
    "            conf_list[i] = 0.0\n",
    "        \n",
    "        for i in zero_y_indices:\n",
    "            scaled_y_list.insert(i, 0.0)\n",
    "            conf_list[i] = 0.0\n",
    "\n",
    "        scaled_x_list = [float(element.item()) if torch.is_tensor(element) else float(element) for element in scaled_x_list]\n",
    "        scaled_y_list = [float(element.item()) if torch.is_tensor(element) else float(element) for element in scaled_y_list]\n",
    "\n",
    "        final_list = list(zip(scaled_x_list, scaled_y_list, conf_list))\n",
    "        return final_list, scaled_x_list, scaled_y_list\n",
    "    \n",
    "    except:\n",
    "        return list(zip(x_list, y_list, conf_list)), x_list, y_list"
   ]
  },
  {
   "cell_type": "code",
   "execution_count": null,
   "metadata": {},
   "outputs": [],
   "source": [
    "def display_keypoints(final_list, destination_path, keypoints=False, display=False):    \n",
    "    import numpy as np\n",
    "    skeletons = [[16, 14], [14, 12], [17, 15], [15, 13], [12, 13], [6, 12], [7, 13], [6, 7], [6, 8], [7, 9], [8, 10], [9, 11], [2, 3], [1, 2], [1, 3], [2, 4], [3, 5], [4, 6], [5, 7]]\n",
    "\n",
    "    filtered_final_list = [value if value[2] > 0.5 else [None, None, None] for value in final_list]\n",
    "    x = [value[0] for value in filtered_final_list]\n",
    "    y = [value[1] for value in filtered_final_list]\n",
    "\n",
    "    count = sum(1 for element in filtered_final_list if isinstance(element, tuple) and element[2] >= 0.5)\n",
    "    coordinate_connections = [[[x[skeleton[0] - 1], x[skeleton[1] - 1]], [y[skeleton[0] - 1], y[skeleton[1] - 1]]] for skeleton in skeletons]\n",
    "    filtered_coordinate_connections = [coordinate_connections[i] for i, value in enumerate(coordinate_connections) if not None in value[0] or not None in value[1]]\n",
    "\n",
    "    if count == 12:\n",
    "        height, width = 360, 640\n",
    "        white_bg = np.ones((height, width, 3), np.uint8) * 255 \n",
    "        plt.imshow(cv2.cvtColor(white_bg, cv2.COLOR_BGR2RGB))\n",
    "        plt.axis('off')\n",
    "        if keypoints: plt.scatter(x, y)     \n",
    "        for value in filtered_coordinate_connections:\n",
    "            plt.plot(value[0], value[1], color='black', solid_capstyle='round', linewidth=5)\n",
    "        plt.savefig(destination_path)\n",
    "        if display:\n",
    "            plt.show()\n",
    "        plt.close()"
   ]
  },
  {
   "cell_type": "code",
   "execution_count": null,
   "metadata": {},
   "outputs": [],
   "source": [
    "os.makedirs(destination_path, exist_ok=True)\n",
    "for severity in os.listdir(frame_path):\n",
    "    os.makedirs(os.path.join(destination_path, severity), exist_ok=True)\n",
    "    for video in os.listdir(os.path.join(frame_path, severity)):\n",
    "        os.makedirs(os.path.join(destination_path, severity, video), exist_ok=True)\n",
    "        for image in tqdm(os.listdir(os.path.join(frame_path, severity, video))):\n",
    "            results = model(os.path.join(frame_path, severity, video, image), verbose=False)\n",
    "            if len(results[0].keypoints.xy[0]) != 0:\n",
    "                final_list, x_list, y_list = preprocess_keypoints(results)\n",
    "                display_keypoints(final_list, os.path.join(destination_path, severity, video, image)) "
   ]
  }
 ],
 "metadata": {
  "kernelspec": {
   "display_name": "machine_learning",
   "language": "python",
   "name": "python3"
  },
  "language_info": {
   "codemirror_mode": {
    "name": "ipython",
    "version": 3
   },
   "file_extension": ".py",
   "mimetype": "text/x-python",
   "name": "python",
   "nbconvert_exporter": "python",
   "pygments_lexer": "ipython3",
   "version": "3.1.0"
  },
  "orig_nbformat": 4
 },
 "nbformat": 4,
 "nbformat_minor": 2
}
