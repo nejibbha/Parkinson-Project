{
 "cells": [
  {
   "cell_type": "code",
   "execution_count": null,
   "metadata": {},
   "outputs": [],
   "source": [
    "from ultralytics import YOLO\n",
    "import os"
   ]
  },
  {
   "cell_type": "code",
   "execution_count": null,
   "metadata": {},
   "outputs": [],
   "source": [
    "model = YOLO('yolov8m-pose.pt')"
   ]
  },
  {
   "cell_type": "code",
   "execution_count": null,
   "metadata": {},
   "outputs": [],
   "source": [
    "frame_path = "
   ]
  },
  {
   "cell_type": "markdown",
   "metadata": {},
   "source": [
    "Keypoint List Structure\n",
    "\n",
    "keypoint_list = [\n",
    "    {\n",
    "        'severity': severity_1, \n",
    "        'video': video_1,\n",
    "        'orientation': orientation_1,\n",
    "        'keypoint_1': [coord1, coord2, coord3, ... coordn],\n",
    "        'keypoint_2': [coord1, coord2, coord3, ... coordn],\n",
    "        ...\n",
    "        'keypoint_12': [coord1, coord2, coord3, ... coordn]\n",
    "    }, \n",
    "    {\n",
    "        'severity': severity_2, \n",
    "        'video': video_2,\n",
    "        'orientation': orientation_2,\n",
    "        'keypoint_1': [coord1, coord2, coord3, ... coord12],\n",
    "        'keypoint_2': [coord1, coord2, coord3, ... coord12],\n",
    "        ...\n",
    "        'keypoint_12': [coord1, coord2, coord3, ... coord12]\n",
    "    },\n",
    "    {\n",
    "        'severity': severity_i, \n",
    "        'video': video_i,\n",
    "        'orientation': orientation_i,\n",
    "        'keypoint_1': [coord1, coord2, coord3, ... coord12],\n",
    "        'keypoint_2': [coord1, coord2, coord3, ... coord12],\n",
    "        ...\n",
    "        'keypoint_12': [coord1, coord2, coord3, ... coord12]\n",
    "    }\n",
    "]"
   ]
  },
  {
   "cell_type": "code",
   "execution_count": 82,
   "metadata": {},
   "outputs": [],
   "source": [
    "def keypoint_generation(frame_path):\n",
    "    keypoint_list = list()\n",
    "\n",
    "    for severity in os.listdir(frame_path):\n",
    "        print(severity)\n",
    "        for video in os.listdir(os.path.join(frame_path, severity)):\n",
    "            print(video)\n",
    "            for orientation in os.listdir(os.path.join(frame_path, severity, video)):\n",
    "                print(orientation)\n",
    "                dict = {\n",
    "                    'severity': severity,\n",
    "                    'video': video,\n",
    "                    'orientation': orientation,\n",
    "                    'left-shoulder': [],\n",
    "                    'right-shoulder': [],\n",
    "                    'left-elbow': [],\n",
    "                    'right-elbow': [],\n",
    "                    'left-wrist': [],\n",
    "                    'right-wrist': [],\n",
    "                    'left-hip': [],\n",
    "                    'right-hip': [],\n",
    "                    'left-knee': [],\n",
    "                    'right-knee': [],\n",
    "                    'left-ankle': [],\n",
    "                    'right-ankle': [],\n",
    "                }\n",
    "                if len(os.listdir(os.path.join(frame_path, severity, video, orientation))) > 0:\n",
    "                    for image in os.listdir(os.path.join(frame_path, severity, video, orientation)):\n",
    "                        print(image)\n",
    "\n",
    "                        results = model(os.path.join(frame_path, severity, video, orientation, image), verbose=False)\n",
    "                        keypoints = results[0].keypoints[0].xy[0]\n",
    "                        if len(keypoints) != 0:\n",
    "                            keypoints = keypoints.clone()\n",
    "                            keypoints[keypoints == 0.0] = float('nan')\n",
    "\n",
    "                            dict['left-shoulder'].append(keypoints[5])\n",
    "                            dict['right-shoulder'].append(keypoints[6])\n",
    "                            dict['left-elbow'].append(keypoints[7])\n",
    "                            dict['right-elbow'].append(keypoints[8])\n",
    "                            dict['left-wrist'].append(keypoints[9])\n",
    "                            dict['right-wrist'].append(keypoints[10])\n",
    "                            dict['left-hip'].append(keypoints[11])\n",
    "                            dict['right-hip'].append(keypoints[12])\n",
    "                            dict['left-knee'].append(keypoints[13])\n",
    "                            dict['right-knee'].append(keypoints[14])\n",
    "                            dict['left-ankle'].append(keypoints[15])\n",
    "                            dict['right-ankle'].append(keypoints[16])\n",
    "                print(keypoint_list)    \n",
    "                keypoint_list.append(dict)\n",
    "                \n",
    "    return keypoint_list"
   ]
  },
  {
   "cell_type": "code",
   "execution_count": null,
   "metadata": {},
   "outputs": [],
   "source": [
    "keypoint_list = keypoint_generation(frame_path)"
   ]
  }
 ],
 "metadata": {
  "kernelspec": {
   "display_name": "deep-learning",
   "language": "python",
   "name": "python3"
  },
  "language_info": {
   "codemirror_mode": {
    "name": "ipython",
    "version": 3
   },
   "file_extension": ".py",
   "mimetype": "text/x-python",
   "name": "python",
   "nbconvert_exporter": "python",
   "pygments_lexer": "ipython3",
   "version": "3.10.13"
  }
 },
 "nbformat": 4,
 "nbformat_minor": 2
}
