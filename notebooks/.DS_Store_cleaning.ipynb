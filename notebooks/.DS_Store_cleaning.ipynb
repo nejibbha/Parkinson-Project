{
 "cells": [
  {
   "cell_type": "code",
   "execution_count": 1,
   "metadata": {},
   "outputs": [],
   "source": [
    "import os"
   ]
  },
  {
   "cell_type": "code",
   "execution_count": 2,
   "metadata": {},
   "outputs": [],
   "source": [
    "def clean_folders(location):\n",
    "    for root, dirs, files in os.walk(location):\n",
    "        for file in files:\n",
    "            if file == \".DS_Store\":\n",
    "                file_path = os.path.join(root, file)\n",
    "                os.remove(file_path)\n",
    "                print(f\"Deleted: {file_path}\")\n",
    "        for dir in dirs: \n",
    "            if dir == \".DS_Store\":\n",
    "                file_path = os.path.join(root, dir)\n",
    "                os.rmdir(file_path)\n",
    "                print(f\"Deleted: {file_path}\")"
   ]
  },
  {
   "cell_type": "code",
   "execution_count": 3,
   "metadata": {},
   "outputs": [
    {
     "name": "stdout",
     "output_type": "stream",
     "text": [
      "Deleted: /Users/aravdhoot/Parkinson-Project/experiments/.DS_Store\n",
      "Deleted: /Users/aravdhoot/Parkinson-Project/experiments/non-keyframe/.DS_Store\n",
      "Deleted: /Users/aravdhoot/Parkinson-Project/experiments/non-keyframe/vit-tiny/.DS_Store\n",
      "Deleted: /Users/aravdhoot/Parkinson-Project/experiments/keyframe/.DS_Store\n",
      "Deleted: /Users/aravdhoot/Parkinson-Project/experiments/keyframe/vit-base/.DS_Store\n",
      "Deleted: /Users/aravdhoot/Parkinson-Project/experiments/keyframe/resnet-18/.DS_Store\n"
     ]
    }
   ],
   "source": [
    "clean_folders('/Users/aravdhoot/Parkinson-Project')"
   ]
  }
 ],
 "metadata": {
  "kernelspec": {
   "display_name": "deep-learning",
   "language": "python",
   "name": "python3"
  },
  "language_info": {
   "codemirror_mode": {
    "name": "ipython",
    "version": 3
   },
   "file_extension": ".py",
   "mimetype": "text/x-python",
   "name": "python",
   "nbconvert_exporter": "python",
   "pygments_lexer": "ipython3",
   "version": "3.9.6"
  }
 },
 "nbformat": 4,
 "nbformat_minor": 2
}
