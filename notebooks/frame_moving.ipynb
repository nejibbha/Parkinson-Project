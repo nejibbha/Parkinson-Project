{
 "cells": [
  {
   "cell_type": "code",
   "execution_count": null,
   "metadata": {},
   "outputs": [],
   "source": [
    "import shutil\n",
    "import os"
   ]
  },
  {
   "cell_type": "code",
   "execution_count": null,
   "metadata": {},
   "outputs": [],
   "source": [
    "input_dir = '/Users/aravdhoot/PD/frames_10fps'\n",
    "output_dir = '/Users/aravdhoot/PD/frames_updated'"
   ]
  },
  {
   "cell_type": "code",
   "execution_count": null,
   "metadata": {},
   "outputs": [],
   "source": [
    "for severity in os.listdir(input_dir):\n",
    "    print(severity)\n",
    "    os.makedirs(os.path.join(output_dir, severity), exist_ok=True)\n",
    "    for video in os.listdir(os.path.join(input_dir, severity)):\n",
    "        print(video)\n",
    "        os.makedirs(os.path.join(output_dir, severity, video))\n",
    "        for orientation in os.listdir(os.path.join(input_dir, severity, video)):\n",
    "            for image in os.listdir(os.path.join(input_dir, severity, video, orientation)):\n",
    "                shutil.copy(os.path.join(input_dir, severity, video, orientation, image), os.path.join(output_dir, severity, video, image))"
   ]
  }
 ],
 "metadata": {
  "kernelspec": {
   "display_name": "deep-learning",
   "language": "python",
   "name": "python3"
  },
  "language_info": {
   "codemirror_mode": {
    "name": "ipython",
    "version": 3
   },
   "file_extension": ".py",
   "mimetype": "text/x-python",
   "name": "python",
   "nbconvert_exporter": "python",
   "pygments_lexer": "ipython3",
   "version": "3.10.13"
  }
 },
 "nbformat": 4,
 "nbformat_minor": 2
}
